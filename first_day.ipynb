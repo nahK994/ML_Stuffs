{
  "nbformat": 4,
  "nbformat_minor": 0,
  "metadata": {
    "colab": {
      "provenance": [],
      "authorship_tag": "ABX9TyN3y+jcu3TNqDkM43Fs8nlg",
      "include_colab_link": true
    },
    "kernelspec": {
      "name": "python3",
      "display_name": "Python 3"
    },
    "language_info": {
      "name": "python"
    }
  },
  "cells": [
    {
      "cell_type": "markdown",
      "metadata": {
        "id": "view-in-github",
        "colab_type": "text"
      },
      "source": [
        "<a href=\"https://colab.research.google.com/github/nahK994/TransferLearningStuffs/blob/master/first_day.ipynb\" target=\"_parent\"><img src=\"https://colab.research.google.com/assets/colab-badge.svg\" alt=\"Open In Colab\"/></a>"
      ]
    },
    {
      "cell_type": "code",
      "execution_count": 15,
      "metadata": {
        "colab": {
          "base_uri": "https://localhost:8080/"
        },
        "id": "10e05qbx4sj7",
        "outputId": "ed1a9e04-8652-427d-c7a2-b1020c50a29b"
      },
      "outputs": [
        {
          "output_type": "stream",
          "name": "stdout",
          "text": [
            "2.3.1+cu121\n",
            "# Scalar\n",
            "tensor(7)\n",
            "ndim -> 0\n",
            "item -> 7\n",
            "\n",
            "# Vector\n",
            "tensor([7, 7])\n",
            "ndim -> 1\n",
            "shape -> torch.Size([2])\n",
            "\n",
            "# Matrix\n",
            "tensor([[ 7,  8,  9, 10],\n",
            "        [11, 12, 13, 14],\n",
            "        [15, 16, 17, 18]])\n",
            "ndim -> 2\n",
            "shape -> torch.Size([3, 4])\n",
            "\n"
          ]
        }
      ],
      "source": [
        "import torch\n",
        "import numpy as sp\n",
        "import pandas as pd\n",
        "import matplotlib.pyplot as plt\n",
        "print(torch.__version__)\n",
        "\n",
        "#scalar\n",
        "scalar = torch.tensor(7)\n",
        "print(\"# Scalar\")\n",
        "print(scalar)\n",
        "print(f\"ndim -> {scalar.ndim}\")\n",
        "print(f\"item -> {scalar.item()}\")\n",
        "print()\n",
        "\n",
        "#vector\n",
        "print(\"# Vector\")\n",
        "vector = torch.tensor([7, 7])\n",
        "print(vector)\n",
        "print(f\"ndim -> {vector.ndim}\")\n",
        "print(f\"shape -> {vector.shape}\")\n",
        "print()\n",
        "\n",
        "#MATRIX\n",
        "print(\"# Matrix\")\n",
        "matrix = torch.tensor([[7, 8, 9, 10], [11, 12, 13, 14], [15, 16, 17, 18]])\n",
        "print(matrix)\n",
        "print(f\"ndim -> {matrix.ndim}\")\n",
        "print(f\"shape -> {matrix.shape}\")\n",
        "print()"
      ]
    }
  ]
}