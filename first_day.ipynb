{
  "nbformat": 4,
  "nbformat_minor": 0,
  "metadata": {
    "colab": {
      "provenance": [],
      "authorship_tag": "ABX9TyOKfe10oab05270KcAFzgMo",
      "include_colab_link": true
    },
    "kernelspec": {
      "name": "python3",
      "display_name": "Python 3"
    },
    "language_info": {
      "name": "python"
    }
  },
  "cells": [
    {
      "cell_type": "markdown",
      "metadata": {
        "id": "view-in-github",
        "colab_type": "text"
      },
      "source": [
        "<a href=\"https://colab.research.google.com/github/nahK994/ML_Stuffs/blob/master/first_day.ipynb\" target=\"_parent\"><img src=\"https://colab.research.google.com/assets/colab-badge.svg\" alt=\"Open In Colab\"/></a>"
      ]
    },
    {
      "cell_type": "code",
      "execution_count": 1,
      "metadata": {
        "colab": {
          "base_uri": "https://localhost:8080/"
        },
        "id": "10e05qbx4sj7",
        "outputId": "7082c896-be91-43a4-a48f-33601f39a84b"
      },
      "outputs": [
        {
          "output_type": "stream",
          "name": "stdout",
          "text": [
            "2.4.0+cu121\n",
            "# Scalar\n",
            "tensor(7)\n",
            "Scalar ndim -> 0\n",
            "Scalar shape -> torch.Size([])\n",
            "Scalar item -> 7\n",
            "\n",
            "# Vector\n",
            "tensor([7, 7])\n",
            "Vector ndim -> 1\n",
            "Vector shape -> torch.Size([2])\n",
            "\n",
            "# Matrix\n",
            "tensor([[ 7,  8,  9, 10],\n",
            "        [11, 12, 13, 14],\n",
            "        [15, 16, 17, 18]])\n",
            "Matrix ndim -> 2\n",
            "Matrix shape -> torch.Size([3, 4])\n",
            "\n",
            "# Tensor\n",
            "tensor([[[ 7,  8,  9, 10],\n",
            "         [11, 12, 13, 14],\n",
            "         [15, 16, 17, 18]],\n",
            "\n",
            "        [[ 7,  8,  9, 10],\n",
            "         [11, 12, 13, 14],\n",
            "         [15, 16, 17, 18]]])\n",
            "Tensor ndim -> 3\n",
            "Tensor shape -> torch.Size([2, 3, 4])\n",
            "\n"
          ]
        }
      ],
      "source": [
        "import torch\n",
        "import numpy as sp\n",
        "import pandas as pd\n",
        "import matplotlib.pyplot as plt\n",
        "print(torch.__version__)\n",
        "\n",
        "#scalar\n",
        "scalar = torch.tensor(7)\n",
        "print(\"# Scalar\")\n",
        "print(scalar)\n",
        "print(f\"Scalar ndim -> {scalar.ndim}\")\n",
        "print(f\"Scalar shape -> {scalar.shape}\")\n",
        "print(f\"Scalar item -> {scalar.item()}\")\n",
        "print()\n",
        "\n",
        "#vector\n",
        "print(\"# Vector\")\n",
        "vector = torch.tensor([7, 7])\n",
        "print(vector)\n",
        "print(f\"Vector ndim -> {vector.ndim}\")\n",
        "print(f\"Vector shape -> {vector.shape}\")\n",
        "print()\n",
        "\n",
        "#MATRIX\n",
        "print(\"# Matrix\")\n",
        "matrix = torch.tensor([[7, 8, 9, 10], [11, 12, 13, 14], [15, 16, 17, 18]])\n",
        "print(matrix)\n",
        "print(f\"Matrix ndim -> {matrix.ndim}\")\n",
        "print(f\"Matrix shape -> {matrix.shape}\")\n",
        "print()\n",
        "\n",
        "#TENSOR\n",
        "print(\"# Tensor\")\n",
        "tensor = torch.tensor([\n",
        "    [\n",
        "      [7, 8, 9, 10],\n",
        "      [11, 12, 13, 14],\n",
        "      [15, 16, 17, 18]\n",
        "    ],\n",
        "    [\n",
        "      [7, 8, 9, 10],\n",
        "      [11, 12, 13, 14],\n",
        "      [15, 16, 17, 18]\n",
        "    ]\n",
        "])\n",
        "print(tensor)\n",
        "print(f\"Tensor ndim -> {tensor.ndim}\")\n",
        "print(f\"Tensor shape -> {tensor.shape}\")\n",
        "print()"
      ]
    },
    {
      "cell_type": "code",
      "source": [
        "print(\"# Random tensor\")\n",
        "random_tensor = torch.rand(size=(3, 4, 5))\n",
        "print(random_tensor)\n",
        "print(f\"Random tensor ndim -> {random_tensor.ndim}\")\n",
        "print(f\"Random tensor shape -> {random_tensor.shape}\")\n",
        "print()"
      ],
      "metadata": {
        "id": "0i0hz6z3i4KG",
        "outputId": "8383a9ce-abaa-402e-efbc-2a83d1d88975",
        "colab": {
          "base_uri": "https://localhost:8080/"
        }
      },
      "execution_count": 2,
      "outputs": [
        {
          "output_type": "stream",
          "name": "stdout",
          "text": [
            "# Random tensor\n",
            "tensor([[[0.9665, 0.6069, 0.6449, 0.5011, 0.0464],\n",
            "         [0.4076, 0.0796, 0.7424, 0.1142, 0.1473],\n",
            "         [0.3836, 0.9253, 0.8263, 0.5623, 0.2039],\n",
            "         [0.8924, 0.9407, 0.5542, 0.5013, 0.9184]],\n",
            "\n",
            "        [[0.1796, 0.7418, 0.8621, 0.8446, 0.6124],\n",
            "         [0.5824, 0.5722, 0.0203, 0.8314, 0.7011],\n",
            "         [0.8154, 0.6490, 0.2502, 0.1764, 0.4401],\n",
            "         [0.7923, 0.4766, 0.4818, 0.3363, 0.5929]],\n",
            "\n",
            "        [[0.3645, 0.3460, 0.0110, 0.4958, 0.1940],\n",
            "         [0.9041, 0.3930, 0.6580, 0.2478, 0.7775],\n",
            "         [0.4551, 0.0324, 0.7609, 0.4865, 0.5218],\n",
            "         [0.4687, 0.1446, 0.6360, 0.3054, 0.8408]]])\n",
            "Random tensor ndim -> 3\n",
            "Random tensor shape -> torch.Size([3, 4, 5])\n",
            "\n"
          ]
        }
      ]
    },
    {
      "cell_type": "code",
      "source": [
        "print(\"# All zeros\")\n",
        "zeros = torch.zeros(size=(2, 3, 5))\n",
        "print(zeros)\n",
        "print(f\"zeros ndim -> {zeros.ndim}\")\n",
        "print(f\"zeros shape -> {zeros.shape}\")\n",
        "print()\n",
        "\n",
        "print(\"# Random ones\")\n",
        "ones = torch.ones(size=(1, 5, 2))\n",
        "print(ones)\n",
        "print(f\"ones ndim -> {ones.ndim}\")\n",
        "print(f\"ones shape -> {ones.shape}\")\n",
        "print()"
      ],
      "metadata": {
        "id": "h98B2HeOanUV",
        "outputId": "4b44bece-bd92-47bb-beb9-6c4c99dda619",
        "colab": {
          "base_uri": "https://localhost:8080/"
        }
      },
      "execution_count": 3,
      "outputs": [
        {
          "output_type": "stream",
          "name": "stdout",
          "text": [
            "# All zeros\n",
            "tensor([[[0., 0., 0., 0., 0.],\n",
            "         [0., 0., 0., 0., 0.],\n",
            "         [0., 0., 0., 0., 0.]],\n",
            "\n",
            "        [[0., 0., 0., 0., 0.],\n",
            "         [0., 0., 0., 0., 0.],\n",
            "         [0., 0., 0., 0., 0.]]])\n",
            "zeros ndim -> 3\n",
            "zeros shape -> torch.Size([2, 3, 5])\n",
            "\n",
            "# Random ones\n",
            "tensor([[[1., 1.],\n",
            "         [1., 1.],\n",
            "         [1., 1.],\n",
            "         [1., 1.],\n",
            "         [1., 1.]]])\n",
            "ones ndim -> 3\n",
            "ones shape -> torch.Size([1, 5, 2])\n",
            "\n"
          ]
        }
      ]
    }
  ]
}