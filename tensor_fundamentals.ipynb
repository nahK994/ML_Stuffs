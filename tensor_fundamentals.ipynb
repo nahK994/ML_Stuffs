{
  "nbformat": 4,
  "nbformat_minor": 0,
  "metadata": {
    "colab": {
      "provenance": [],
      "authorship_tag": "ABX9TyPzpnX3r21dEEE6+x127R8R",
      "include_colab_link": true
    },
    "kernelspec": {
      "name": "python3",
      "display_name": "Python 3"
    },
    "language_info": {
      "name": "python"
    }
  },
  "cells": [
    {
      "cell_type": "markdown",
      "metadata": {
        "id": "view-in-github",
        "colab_type": "text"
      },
      "source": [
        "<a href=\"https://colab.research.google.com/github/nahK994/ML_Stuffs/blob/master/tensor_fundamentals.ipynb\" target=\"_parent\"><img src=\"https://colab.research.google.com/assets/colab-badge.svg\" alt=\"Open In Colab\"/></a>"
      ]
    },
    {
      "cell_type": "code",
      "execution_count": 2,
      "metadata": {
        "colab": {
          "base_uri": "https://localhost:8080/"
        },
        "id": "10e05qbx4sj7",
        "outputId": "fc759486-008f-4ec6-e0a9-f4df5538b58a"
      },
      "outputs": [
        {
          "output_type": "stream",
          "name": "stdout",
          "text": [
            "2.4.0+cu121\n",
            "# Scalar\n",
            "tensor(7)\n",
            "Scalar ndim -> 0\n",
            "Scalar shape -> torch.Size([])\n",
            "Scalar item -> 7\n",
            "\n",
            "# Vector\n",
            "tensor([7, 7])\n",
            "Vector ndim -> 1\n",
            "Vector shape -> torch.Size([2])\n",
            "\n",
            "# Matrix\n",
            "tensor([[ 7,  8,  9, 10],\n",
            "        [11, 12, 13, 14],\n",
            "        [15, 16, 17, 18]])\n",
            "Matrix ndim -> 2\n",
            "Matrix shape -> torch.Size([3, 4])\n",
            "\n",
            "# Tensor\n",
            "tensor([[[ 7,  8,  9, 10],\n",
            "         [11, 12, 13, 14],\n",
            "         [15, 16, 17, 18]],\n",
            "\n",
            "        [[ 7,  8,  9, 10],\n",
            "         [11, 12, 13, 14],\n",
            "         [15, 16, 17, 18]]])\n",
            "Tensor ndim -> 3\n",
            "Tensor shape -> torch.Size([2, 3, 4])\n",
            "\n",
            "# Random tensor\n",
            "tensor([[[0.9593, 0.5790, 0.5479, 0.3142, 0.4065],\n",
            "         [0.3809, 0.5403, 0.2724, 0.8962, 0.6887],\n",
            "         [0.8041, 0.1434, 0.2294, 0.6005, 0.3660],\n",
            "         [0.5448, 0.4092, 0.4644, 0.7976, 0.7361]],\n",
            "\n",
            "        [[0.1541, 0.3451, 0.3813, 0.7162, 0.1565],\n",
            "         [0.3663, 0.7831, 0.2783, 0.3772, 0.9370],\n",
            "         [0.5630, 0.4592, 0.8073, 0.8256, 0.6226],\n",
            "         [0.1359, 0.5936, 0.5800, 0.5049, 0.6013]],\n",
            "\n",
            "        [[0.9686, 0.0877, 0.1168, 0.2142, 0.7557],\n",
            "         [0.4575, 0.3597, 0.9019, 0.6966, 0.7327],\n",
            "         [0.4631, 0.7497, 0.7978, 0.3195, 0.9291],\n",
            "         [0.4526, 0.0896, 0.6439, 0.2300, 0.7181]]])\n",
            "Random tensor ndim -> 3\n",
            "Random tensor shape -> torch.Size([3, 4, 5])\n",
            "\n",
            "# All zeros\n",
            "tensor([[[0., 0., 0., 0., 0.],\n",
            "         [0., 0., 0., 0., 0.],\n",
            "         [0., 0., 0., 0., 0.]],\n",
            "\n",
            "        [[0., 0., 0., 0., 0.],\n",
            "         [0., 0., 0., 0., 0.],\n",
            "         [0., 0., 0., 0., 0.]]])\n",
            "zeros ndim -> 3\n",
            "zeros shape -> torch.Size([2, 3, 5])\n",
            "\n",
            "# Random ones\n",
            "tensor([[[1., 1.],\n",
            "         [1., 1.],\n",
            "         [1., 1.],\n",
            "         [1., 1.],\n",
            "         [1., 1.]]])\n",
            "ones ndim -> 3\n",
            "ones shape -> torch.Size([1, 5, 2])\n",
            "\n"
          ]
        },
        {
          "output_type": "execute_result",
          "data": {
            "text/plain": [
              "(torch.Size([3]), torch.float32, device(type='cpu'))"
            ]
          },
          "metadata": {},
          "execution_count": 2
        }
      ],
      "source": [
        "import torch\n",
        "import numpy as sp\n",
        "import pandas as pd\n",
        "import matplotlib.pyplot as plt\n",
        "print(torch.__version__)\n",
        "\n",
        "#scalar\n",
        "scalar = torch.tensor(7)\n",
        "print(\"# Scalar\")\n",
        "print(scalar)\n",
        "print(f\"Scalar ndim -> {scalar.ndim}\")\n",
        "print(f\"Scalar shape -> {scalar.shape}\")\n",
        "print(f\"Scalar item -> {scalar.item()}\")\n",
        "print()\n",
        "\n",
        "#vector\n",
        "print(\"# Vector\")\n",
        "vector = torch.tensor([7, 7])\n",
        "print(vector)\n",
        "print(f\"Vector ndim -> {vector.ndim}\")\n",
        "print(f\"Vector shape -> {vector.shape}\")\n",
        "print()\n",
        "\n",
        "#MATRIX\n",
        "print(\"# Matrix\")\n",
        "matrix = torch.tensor([[7, 8, 9, 10], [11, 12, 13, 14], [15, 16, 17, 18]])\n",
        "print(matrix)\n",
        "print(f\"Matrix ndim -> {matrix.ndim}\")\n",
        "print(f\"Matrix shape -> {matrix.shape}\")\n",
        "print()\n",
        "\n",
        "#TENSOR\n",
        "print(\"# Tensor\")\n",
        "tensor = torch.tensor([\n",
        "    [\n",
        "      [7, 8, 9, 10],\n",
        "      [11, 12, 13, 14],\n",
        "      [15, 16, 17, 18]\n",
        "    ],\n",
        "    [\n",
        "      [7, 8, 9, 10],\n",
        "      [11, 12, 13, 14],\n",
        "      [15, 16, 17, 18]\n",
        "    ]\n",
        "])\n",
        "print(tensor)\n",
        "print(f\"Tensor ndim -> {tensor.ndim}\")\n",
        "print(f\"Tensor shape -> {tensor.shape}\")\n",
        "print()\n",
        "\n",
        "print(\"# Random tensor\")\n",
        "random_tensor = torch.rand(size=(3, 4, 5))\n",
        "print(random_tensor)\n",
        "print(f\"Random tensor ndim -> {random_tensor.ndim}\")\n",
        "print(f\"Random tensor shape -> {random_tensor.shape}\")\n",
        "print()\n",
        "\n",
        "print(\"# All zeros\")\n",
        "zeros = torch.zeros(size=(2, 3, 5))\n",
        "print(zeros)\n",
        "print(f\"zeros ndim -> {zeros.ndim}\")\n",
        "print(f\"zeros shape -> {zeros.shape}\")\n",
        "print()\n",
        "\n",
        "print(\"# Random ones\")\n",
        "ones = torch.ones(size=(1, 5, 2))\n",
        "print(ones)\n",
        "print(f\"ones ndim -> {ones.ndim}\")\n",
        "print(f\"ones shape -> {ones.shape}\")\n",
        "print()"
      ]
    },
    {
      "cell_type": "code",
      "source": [],
      "metadata": {
        "id": "h98B2HeOanUV"
      },
      "execution_count": null,
      "outputs": []
    }
  ]
}