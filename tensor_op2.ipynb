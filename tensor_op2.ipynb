{
  "nbformat": 4,
  "nbformat_minor": 0,
  "metadata": {
    "colab": {
      "provenance": [],
      "authorship_tag": "ABX9TyOIBRK3pxddarDtY6t8wp7A",
      "include_colab_link": true
    },
    "kernelspec": {
      "name": "python3",
      "display_name": "Python 3"
    },
    "language_info": {
      "name": "python"
    }
  },
  "cells": [
    {
      "cell_type": "markdown",
      "metadata": {
        "id": "view-in-github",
        "colab_type": "text"
      },
      "source": [
        "<a href=\"https://colab.research.google.com/github/nahK994/ML_Stuffs/blob/master/tensor_op2.ipynb\" target=\"_parent\"><img src=\"https://colab.research.google.com/assets/colab-badge.svg\" alt=\"Open In Colab\"/></a>"
      ]
    },
    {
      "cell_type": "code",
      "execution_count": 7,
      "metadata": {
        "colab": {
          "base_uri": "https://localhost:8080/"
        },
        "id": "10e05qbx4sj7",
        "outputId": "f4c03770-f946-4679-c363-ac0b3efc1b73"
      },
      "outputs": [
        {
          "output_type": "stream",
          "name": "stdout",
          "text": [
            "tensor([[[0.7240, 0.5694, 0.1542, 0.9927, 0.1639],\n",
            "         [0.5485, 0.3043, 0.8242, 0.8676, 0.7888],\n",
            "         [0.4385, 0.8503, 0.3166, 0.3265, 0.5872]],\n",
            "\n",
            "        [[0.7042, 0.3635, 0.3240, 0.7870, 0.7369],\n",
            "         [0.7466, 0.4129, 0.4331, 0.8101, 0.7385],\n",
            "         [0.7717, 0.2370, 0.2399, 0.2030, 0.8855]]])\n",
            "\n",
            "min --> 0.15416878461837769 at position 2\n",
            "max --> 0.9926901459693909 at position 3\n",
            "sum --> 16.850351333618164\n",
            "mean --> 0.5616783499717712\n",
            "reshape 2x15 --> tensor([[0.7240, 0.5694, 0.1542, 0.9927, 0.1639, 0.5485, 0.3043, 0.8242, 0.8676,\n",
            "         0.7888, 0.4385, 0.8503, 0.3166, 0.3265, 0.5872],\n",
            "        [0.7042, 0.3635, 0.3240, 0.7870, 0.7369, 0.7466, 0.4129, 0.4331, 0.8101,\n",
            "         0.7385, 0.7717, 0.2370, 0.2399, 0.2030, 0.8855]])\n"
          ]
        }
      ],
      "source": [
        "import torch\n",
        "\n",
        "# x = torch.arange(0, 100, 10)\n",
        "x = torch.rand(size=(2, 3, 5))\n",
        "\n",
        "print(f\"{x}\\n\")\n",
        "print(f\"min --> {x.min()} at position {x.argmin()}\")\n",
        "print(f\"max --> {x.max()} at position {x.argmax()}\")\n",
        "print(f\"sum --> {x.sum()}\")\n",
        "print(f\"mean --> {x.type(torch.float32).mean()}\")\n",
        "print(f\"reshape 2x15 --> {x.reshape(2, 15)}\")\n",
        "print()"
      ]
    },
    {
      "cell_type": "code",
      "source": [],
      "metadata": {
        "id": "h98B2HeOanUV"
      },
      "execution_count": null,
      "outputs": []
    }
  ]
}