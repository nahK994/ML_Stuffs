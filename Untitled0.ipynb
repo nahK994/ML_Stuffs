{
  "nbformat": 4,
  "nbformat_minor": 0,
  "metadata": {
    "colab": {
      "provenance": [],
      "authorship_tag": "ABX9TyP7MPeVRhr9cJqmjySTx1cJ",
      "include_colab_link": true
    },
    "kernelspec": {
      "name": "python3",
      "display_name": "Python 3"
    },
    "language_info": {
      "name": "python"
    }
  },
  "cells": [
    {
      "cell_type": "markdown",
      "metadata": {
        "id": "view-in-github",
        "colab_type": "text"
      },
      "source": [
        "<a href=\"https://colab.research.google.com/github/nahK994/TransferLearningStuffs/blob/master/Untitled0.ipynb\" target=\"_parent\"><img src=\"https://colab.research.google.com/assets/colab-badge.svg\" alt=\"Open In Colab\"/></a>"
      ]
    },
    {
      "cell_type": "code",
      "execution_count": 3,
      "metadata": {
        "colab": {
          "base_uri": "https://localhost:8080/"
        },
        "id": "10e05qbx4sj7",
        "outputId": "21a68847-d1da-4cbd-ee83-38f2d2fa5617"
      },
      "outputs": [
        {
          "output_type": "stream",
          "name": "stdout",
          "text": [
            "Hello World!!\n"
          ]
        }
      ],
      "source": [
        "print(\"Hello World!!\")"
      ]
    },
    {
      "cell_type": "code",
      "source": [
        "for i in range(10):\n",
        "  print(f\"Hello World!! {i}\")"
      ],
      "metadata": {
        "colab": {
          "base_uri": "https://localhost:8080/"
        },
        "id": "Sy2alULr5HcG",
        "outputId": "7f75176a-2d3a-4a26-91a1-c831c9395454"
      },
      "execution_count": 4,
      "outputs": [
        {
          "output_type": "stream",
          "name": "stdout",
          "text": [
            "Hello World!! 0\n",
            "Hello World!! 1\n",
            "Hello World!! 2\n",
            "Hello World!! 3\n",
            "Hello World!! 4\n",
            "Hello World!! 5\n",
            "Hello World!! 6\n",
            "Hello World!! 7\n",
            "Hello World!! 8\n",
            "Hello World!! 9\n"
          ]
        }
      ]
    }
  ]
}